{
 "cells": [
  {
   "cell_type": "code",
   "execution_count": 13,
   "metadata": {},
   "outputs": [
    {
     "name": "stdout",
     "output_type": "stream",
     "text": [
      "57 y 9\n"
     ]
    }
   ],
   "source": [
    "import random \n",
    "a = random.randint(0, 100) # Generar primer numero aleatorio para la suma\n",
    "b = random.randint(0, 100) # Generar segundo numero aleatorio para la suma\n",
    "print(a, \"y\", b)"
   ]
  },
  {
   "cell_type": "code",
   "execution_count": 14,
   "metadata": {},
   "outputs": [],
   "source": [
    "respuesta = input(\"ingresa respuesta\")"
   ]
  },
  {
   "cell_type": "code",
   "execution_count": 15,
   "metadata": {},
   "outputs": [
    {
     "data": {
      "text/plain": [
       "'Respuesta incorrecta'"
      ]
     },
     "execution_count": 15,
     "metadata": {},
     "output_type": "execute_result"
    }
   ],
   "source": [
    "def validar_suma(a, b, respuesta):\n",
    "    if a + b == respuesta: # Verificar la respuesta\n",
    "        return \"Respuesta correcta\"\n",
    "    else:\n",
    "        return \"Respuesta incorrecta\"\n",
    "    \n",
    "    \n",
    "validar_suma(a, b, respuesta)"
   ]
  },
  {
   "cell_type": "markdown",
   "metadata": {},
   "source": [
    "## Función para invertir el orden de los digitos de un numero"
   ]
  },
  {
   "cell_type": "code",
   "execution_count": 34,
   "metadata": {},
   "outputs": [
    {
     "name": "stdout",
     "output_type": "stream",
     "text": [
      "[7, 5, 4, 3]\n"
     ]
    }
   ],
   "source": [
    "def invert_cifra(numero): # Funcion para invertir el orden de los digitos\n",
    "    \n",
    "    numero_invertido = str(numero)[::-1]\n",
    "    \n",
    "    return [int(digito) for digito in numero_invertido]\n",
    "\n",
    "\n",
    "# Prueva de uso\n",
    "numero = 3457\n",
    "nu = invert_cifra(numero)\n",
    "print(nu)"
   ]
  },
  {
   "cell_type": "code",
   "execution_count": 35,
   "metadata": {},
   "outputs": [
    {
     "data": {
      "text/plain": [
       "3"
      ]
     },
     "execution_count": 35,
     "metadata": {},
     "output_type": "execute_result"
    }
   ],
   "source": [
    "def obtener_o_p(n1): # Funcion para obtener el orden posicional de un numero\n",
    "    num_inv = invert_cifra(n1) # Convertir el numero en una string\n",
    "    \n",
    "    num_len = len(n1)\n",
    "    \n",
    "    unidad = n1[1]\n",
    "    \n",
    "    return unidad\n",
    "        \n",
    "a = 345\n",
    "obtener_o_p(32, 56)"
   ]
  }
 ],
 "metadata": {
  "kernelspec": {
   "display_name": "Python 3",
   "language": "python",
   "name": "python3"
  },
  "language_info": {
   "codemirror_mode": {
    "name": "ipython",
    "version": 3
   },
   "file_extension": ".py",
   "mimetype": "text/x-python",
   "name": "python",
   "nbconvert_exporter": "python",
   "pygments_lexer": "ipython3",
   "version": "3.12.4"
  }
 },
 "nbformat": 4,
 "nbformat_minor": 2
}
